{
 "cells": [
  {
   "cell_type": "markdown",
   "id": "643614c0-a84f-4731-af28-45880745cc24",
   "metadata": {},
   "source": [
    "# Day 1"
   ]
  },
  {
   "cell_type": "markdown",
   "id": "ec104d7d-a5e5-43c5-9a08-ef6f445bc290",
   "metadata": {},
   "source": [
    "## Basics of Python"
   ]
  },
  {
   "cell_type": "code",
   "execution_count": 43,
   "id": "2fbe7265-13c4-41ee-b7a6-8eee68d6f5ef",
   "metadata": {},
   "outputs": [
    {
     "name": "stdout",
     "output_type": "stream",
     "text": [
      "Hello World\n"
     ]
    }
   ],
   "source": [
    "print (\"Hello World\")  ## Write/run"
   ]
  },
  {
   "cell_type": "code",
   "execution_count": 44,
   "id": "cdfe5c6e-db87-4b5b-b6b2-410dcfc80b5a",
   "metadata": {},
   "outputs": [
    {
     "name": "stdout",
     "output_type": "stream",
     "text": [
      "Hello World. this is an amzing python class \n"
     ]
    }
   ],
   "source": [
    "print(\"Hello World. this is an amzing python class \")  ## Edit"
   ]
  },
  {
   "cell_type": "code",
   "execution_count": 45,
   "id": "f53155cb-1cb7-4dbb-815a-9629557817b4",
   "metadata": {},
   "outputs": [
    {
     "ename": "SyntaxError",
     "evalue": "incomplete input (2794098744.py, line 1)",
     "output_type": "error",
     "traceback": [
      "\u001b[1;36m  Cell \u001b[1;32mIn[45], line 1\u001b[1;36m\u001b[0m\n\u001b[1;33m    print (\"Hello World. this is an amzing python class ) \"   ## Debug\u001b[0m\n\u001b[1;37m                                                                      ^\u001b[0m\n\u001b[1;31mSyntaxError\u001b[0m\u001b[1;31m:\u001b[0m incomplete input\n"
     ]
    }
   ],
   "source": [
    "print (\"Hello World. this is an amzing python class ) \"   ## Debug"
   ]
  },
  {
   "cell_type": "code",
   "execution_count": 46,
   "id": "4e19b49c-4bdd-4e02-89f5-f47d2055f8a6",
   "metadata": {},
   "outputs": [
    {
     "name": "stdout",
     "output_type": "stream",
     "text": [
      "8\n"
     ]
    }
   ],
   "source": [
    "print (2+6)       ## Input/ output"
   ]
  },
  {
   "cell_type": "markdown",
   "id": "c695ff8b-191f-4d82-bb5b-3d8f8b3202fc",
   "metadata": {},
   "source": [
    "## python comments (##) , (\"\"\")"
   ]
  },
  {
   "cell_type": "code",
   "execution_count": 47,
   "id": "56897e62-2793-4e4e-bc13-4edaa20b56e6",
   "metadata": {},
   "outputs": [
    {
     "name": "stdout",
     "output_type": "stream",
     "text": [
      "Hello World\n"
     ]
    }
   ],
   "source": [
    "print (\"Hello World\") # this is comment"
   ]
  },
  {
   "cell_type": "code",
   "execution_count": 48,
   "id": "4647842c-ddba-4a0b-8c38-6a8bd5ca5849",
   "metadata": {},
   "outputs": [
    {
     "name": "stdout",
     "output_type": "stream",
     "text": [
      "Jayshree\n"
     ]
    }
   ],
   "source": [
    " # this is comment\n",
    "print (\"Jayshree\")"
   ]
  },
  {
   "cell_type": "markdown",
   "id": "0ea3b530-7b3b-442c-b58e-427c05c4a18c",
   "metadata": {},
   "source": [
    "### miltiline comment"
   ]
  },
  {
   "cell_type": "code",
   "execution_count": 49,
   "id": "3e224323-2f14-4681-81e8-f0c947f46f1b",
   "metadata": {},
   "outputs": [
    {
     "name": "stdout",
     "output_type": "stream",
     "text": [
      "15\n"
     ]
    }
   ],
   "source": [
    "# this is comment 1\n",
    "# this is comment 2                  \n",
    "# this is comment 3\n",
    "print (6+9)"
   ]
  },
  {
   "cell_type": "code",
   "execution_count": 50,
   "id": "e32894ed-ad9c-4e98-a948-1489ea7cf8c5",
   "metadata": {},
   "outputs": [
    {
     "name": "stdout",
     "output_type": "stream",
     "text": [
      "-3\n"
     ]
    }
   ],
   "source": [
    "\"\"\" this is our first class of python \"\"\"               ### comment(\"\"\")\n",
    "print (6-9)                                   "
   ]
  },
  {
   "cell_type": "markdown",
   "id": "7ed99c90-10bc-4571-8ed4-5b46d63e4cc7",
   "metadata": {},
   "source": [
    "# Day 2"
   ]
  },
  {
   "cell_type": "markdown",
   "id": "a71b0e7b-2653-4333-91f8-be235dde97a3",
   "metadata": {},
   "source": [
    "## Variables & Operators in Python"
   ]
  },
  {
   "cell_type": "code",
   "execution_count": 51,
   "id": "4fc350fe-1c45-4cfa-9753-3927b9e41791",
   "metadata": {},
   "outputs": [
    {
     "name": "stdout",
     "output_type": "stream",
     "text": [
      "1\n"
     ]
    }
   ],
   "source": [
    "a = 1                   ## Variables Name \"a\"\n",
    "print (a)"
   ]
  },
  {
   "cell_type": "code",
   "execution_count": 52,
   "id": "507e4ae3-843f-4083-98bd-e8af6a296a1a",
   "metadata": {},
   "outputs": [
    {
     "name": "stdout",
     "output_type": "stream",
     "text": [
      "2 2.3\n"
     ]
    }
   ],
   "source": [
    "b = 2                  ## Variables Name \" b / c \"\n",
    "c = 2.3\n",
    "print (b,c)"
   ]
  },
  {
   "cell_type": "code",
   "execution_count": 53,
   "id": "dbc41c45-0279-4a9b-8f6b-c4908466d173",
   "metadata": {},
   "outputs": [
    {
     "name": "stdout",
     "output_type": "stream",
     "text": [
      "x\n"
     ]
    }
   ],
   "source": [
    "x = \"apple\"            ## Strings Variable = Variable-x / String-apple ( \"x\"   , 'x'  )\n",
    "print (\"x\")"
   ]
  },
  {
   "cell_type": "code",
   "execution_count": 54,
   "id": "ca06f7b9-30d5-4d8f-bed0-fee05feb2ca3",
   "metadata": {},
   "outputs": [
    {
     "name": "stdout",
     "output_type": "stream",
     "text": [
      "23\n"
     ]
    }
   ],
   "source": [
    "student = 23\n",
    "print (student)"
   ]
  },
  {
   "cell_type": "code",
   "execution_count": 55,
   "id": "aefe6c7f-1c5c-4028-97da-bd30ec791e2b",
   "metadata": {},
   "outputs": [
    {
     "ename": "SyntaxError",
     "evalue": "invalid syntax (2509127712.py, line 1)",
     "output_type": "error",
     "traceback": [
      "\u001b[1;36m  Cell \u001b[1;32mIn[55], line 1\u001b[1;36m\u001b[0m\n\u001b[1;33m    1@#& =2                  ## variable banvaycha aasel tar kontya pan 1 single letter la use kru shakto / Alphanumeric pan use kru shakto\u001b[0m\n\u001b[1;37m      ^\u001b[0m\n\u001b[1;31mSyntaxError\u001b[0m\u001b[1;31m:\u001b[0m invalid syntax\n"
     ]
    }
   ],
   "source": [
    "1@#& =2                  ## variable banvaycha aasel tar kontya pan 1 single letter la use kru shakto / Alphanumeric pan use kru shakto\n",
    "print(1@#&)"
   ]
  },
  {
   "cell_type": "code",
   "execution_count": 56,
   "id": "46d4efc6-0412-4a48-964e-acfaf49fccea",
   "metadata": {},
   "outputs": [
    {
     "name": "stdout",
     "output_type": "stream",
     "text": [
      "25\n"
     ]
    }
   ],
   "source": [
    "student123 = 25            ## Alphanumeric (Meaning : containing or using both numbers and letters) variables create kru shakto \n",
    "print (student123)"
   ]
  },
  {
   "cell_type": "code",
   "execution_count": 57,
   "id": "c61c507f-4f7e-44ac-9942-75613df40cc7",
   "metadata": {},
   "outputs": [
    {
     "name": "stdout",
     "output_type": "stream",
     "text": [
      "5\n"
     ]
    }
   ],
   "source": [
    "_a= 5                     ## _ deun pan variable banu shakto pan @ # % & 2.3 5.6 nahi use kru shakt \n",
    "print (_a)"
   ]
  },
  {
   "cell_type": "markdown",
   "id": "4db6f752-69ca-40e1-af85-bd1eb770773a",
   "metadata": {},
   "source": [
    "## many valuse to multiple variables"
   ]
  },
  {
   "cell_type": "code",
   "execution_count": 58,
   "id": "5ea910b8-0dfb-435b-9934-e83d0c1a06f4",
   "metadata": {},
   "outputs": [
    {
     "name": "stdout",
     "output_type": "stream",
     "text": [
      "orange banana  cherry\n"
     ]
    }
   ],
   "source": [
    "x,y,z = \"orange\", \"banana\" ,\" cherry\"\n",
    "print (x,y,z)"
   ]
  },
  {
   "cell_type": "code",
   "execution_count": 59,
   "id": "22f0ca8c-efa9-4365-b0bc-df31164bffe4",
   "metadata": {},
   "outputs": [
    {
     "name": "stdout",
     "output_type": "stream",
     "text": [
      "orange\n",
      "orange\n",
      "orange\n"
     ]
    }
   ],
   "source": [
    "x=y=z= \"orange\"            ## many valuse pan aapan multiple variables mdhe deu shakto \n",
    "print (x)\n",
    "print (y)\n",
    "print (z)"
   ]
  },
  {
   "cell_type": "markdown",
   "id": "0d05974f-9f6f-46a0-8371-78dd87b340e0",
   "metadata": {},
   "source": [
    "### python output variables"
   ]
  },
  {
   "cell_type": "code",
   "execution_count": 60,
   "id": "8ea6c39b-6985-475a-83ca-b908a9641ccf",
   "metadata": {},
   "outputs": [
    {
     "name": "stdout",
     "output_type": "stream",
     "text": [
      "Python is amazing\n",
      "\n",
      "Python\n",
      "is\n",
      "amazing\n"
     ]
    }
   ],
   "source": [
    "x = \"Python\"               ## print x,,y,z = output / python is amazing \n",
    "y = \"is\"\n",
    "z = \"amazing\"\n",
    "print (x,y,z)\n",
    "\n",
    "print ()                     ## print (x ) print (y) print (z) / output - separated\n",
    "\n",
    "print (x)\n",
    "print (y)\n",
    "print (z)\n"
   ]
  },
  {
   "cell_type": "markdown",
   "id": "d33e7975-bd30-40bb-941d-1e53920cf65d",
   "metadata": {},
   "source": [
    "### Data Types"
   ]
  },
  {
   "cell_type": "code",
   "execution_count": 61,
   "id": "ace9837c-c59f-4a21-a127-24426928effd",
   "metadata": {},
   "outputs": [
    {
     "name": "stdout",
     "output_type": "stream",
     "text": [
      "2\n",
      "<class 'int'>\n"
     ]
    }
   ],
   "source": [
    "x= 2                    # Interger data types\n",
    "print (x)\n",
    "print (type(x))"
   ]
  },
  {
   "cell_type": "code",
   "execution_count": 62,
   "id": "5ef2a123-b402-4f6c-a337-8fa848e8a58f",
   "metadata": {},
   "outputs": [
    {
     "name": "stdout",
     "output_type": "stream",
     "text": [
      "4.5\n",
      "<class 'float'>\n"
     ]
    }
   ],
   "source": [
    "y = 4.5                # float data types [.]\n",
    "print (y)\n",
    "print (type(y))"
   ]
  },
  {
   "cell_type": "code",
   "execution_count": 63,
   "id": "7fc5d178-591d-4d9b-aceb-2b0dc14495ef",
   "metadata": {},
   "outputs": [
    {
     "name": "stdout",
     "output_type": "stream",
     "text": [
      "(2+5j)\n",
      "<class 'complex'>\n"
     ]
    }
   ],
   "source": [
    "z = 2+5j               # complex number types [2+5j]\n",
    "print (z)\n",
    "print (type(z))"
   ]
  },
  {
   "cell_type": "code",
   "execution_count": 64,
   "id": "3de21bdc-ee6c-4710-8d4e-dd2f06703d13",
   "metadata": {},
   "outputs": [
    {
     "name": "stdout",
     "output_type": "stream",
     "text": [
      " this is the day 2 of python class \n",
      "<class 'str'>\n"
     ]
    }
   ],
   "source": [
    "a = \" this is the day 2 of python class \"           # String data types [text]\n",
    "print (a)\n",
    "print (type(a))"
   ]
  },
  {
   "cell_type": "code",
   "execution_count": 65,
   "id": "91afd9e9-5240-4883-a258-a1ec5bbc31bc",
   "metadata": {},
   "outputs": [
    {
     "name": "stdout",
     "output_type": "stream",
     "text": [
      "[1, 2, 3, 4, 5, 6, 7, 8, 9, 10]\n",
      "<class 'list'>\n"
     ]
    }
   ],
   "source": [
    " b =[1,2,3,4,5,6,7,8,9,10]                         # list data types []\n",
    "print (b)\n",
    "print (type(b))"
   ]
  },
  {
   "cell_type": "code",
   "execution_count": 66,
   "id": "196f7d5a-5b3e-46a3-9929-a93cc17b6673",
   "metadata": {},
   "outputs": [
    {
     "name": "stdout",
     "output_type": "stream",
     "text": [
      "(1, 2, 3, 4, 5, 6, 7, 8, 9, 10)\n",
      "<class 'tuple'>\n"
     ]
    }
   ],
   "source": [
    "c =(1,2,3,4,5,6,7,8,9,10)                         # Tuple data types ()\n",
    "print (c)\n",
    "print (type(c))"
   ]
  },
  {
   "cell_type": "code",
   "execution_count": 67,
   "id": "87366283-7fb2-4beb-ac00-1215cf7badd0",
   "metadata": {},
   "outputs": [
    {
     "name": "stdout",
     "output_type": "stream",
     "text": [
      "Variable               Type        Data/Info\n",
      "--------------------------------------------\n",
      "a                      str          this is the day 2 of python class \n",
      "b                      list        n=10\n",
      "c                      tuple       n=10\n",
      "dataframe_columns      function    <function dataframe_colum<...>ns at 0x0000016CD21F58A0>\n",
      "dataframe_hash         function    <function dataframe_hash at 0x0000016CD21F5260>\n",
      "dtypes_str             function    <function dtypes_str at 0x0000016CD21F6A20>\n",
      "g                      str         ^\n",
      "get_dataframes         function    <function get_dataframes at 0x0000016CD21F6660>\n",
      "getpass                module      <module 'getpass' from 'C<...>conda3\\\\Lib\\\\getpass.py'>\n",
      "hashlib                module      <module 'hashlib' from 'C<...>conda3\\\\Lib\\\\hashlib.py'>\n",
      "import_pandas_safely   function    <function import_pandas_s<...>ly at 0x0000016CD21F4F40>\n",
      "is_data_frame          function    <function is_data_frame at 0x0000016CD1173A60>\n",
      "json                   module      <module 'json' from 'C:\\\\<...>\\Lib\\\\json\\\\__init__.py'>\n",
      "student                int         23\n",
      "student123             int         25\n",
      "x                      int         2\n",
      "y                      float       4.5\n",
      "z                      complex     (2+5j)\n"
     ]
    }
   ],
   "source": [
    "# jupyter notbook mdhe kiti variables ahet / kontya value store aahet\n",
    "%whos\n"
   ]
  },
  {
   "cell_type": "markdown",
   "id": "df78fb5b-5b2d-4c3a-b68f-d3c5a5d8715b",
   "metadata": {},
   "source": [
    " # Operators in python"
   ]
  },
  {
   "cell_type": "code",
   "execution_count": 68,
   "id": "df527548-2fbe-4585-b358-12fc877c0da9",
   "metadata": {},
   "outputs": [],
   "source": [
    "# operators : these are the special symbols . eg - +, *, / , etc \n",
    "\n",
    "# Arithmetic operators\n",
    "# Comparison  operators\n",
    "# logical  operators\n",
    "# Bitwise  operators\n",
    "# Assignment  operators\n",
    "# Identity Operators and Membership  operators"
   ]
  },
  {
   "cell_type": "code",
   "execution_count": 69,
   "id": "af1e9c4e-641c-476b-9dc1-bcadc75efd5b",
   "metadata": {},
   "outputs": [
    {
     "name": "stdout",
     "output_type": "stream",
     "text": [
      "8\n"
     ]
    }
   ],
   "source": [
    "a = 5               # add +\n",
    "b = 3 \n",
    "print (a+b)"
   ]
  },
  {
   "cell_type": "code",
   "execution_count": 70,
   "id": "d15c3f91-6077-4fb5-a0e0-8a338c7acd8b",
   "metadata": {},
   "outputs": [
    {
     "name": "stdout",
     "output_type": "stream",
     "text": [
      "7.3\n"
     ]
    }
   ],
   "source": [
    "a = 5   # int\n",
    "b = 2.3 # float\n",
    "print (a+b)"
   ]
  },
  {
   "cell_type": "code",
   "execution_count": 71,
   "id": "24a8238e-a8e1-4693-9d5d-466da7419967",
   "metadata": {},
   "outputs": [
    {
     "name": "stdout",
     "output_type": "stream",
     "text": [
      "(10+6j)\n"
     ]
    }
   ],
   "source": [
    "a = 5+6j  #complex\n",
    "b = 5     # int\n",
    "print (a+b)"
   ]
  },
  {
   "cell_type": "code",
   "execution_count": 72,
   "id": "081dfe83-8688-4322-bd3b-cd1d621c7657",
   "metadata": {},
   "outputs": [
    {
     "name": "stdout",
     "output_type": "stream",
     "text": [
      "hellostudents\n"
     ]
    }
   ],
   "source": [
    "a = \"hello\"  # string \n",
    "b = \"students\"\n",
    "print (a + b)"
   ]
  },
  {
   "cell_type": "code",
   "execution_count": 73,
   "id": "10a28331-8550-4eb1-8d07-db780cbe93ad",
   "metadata": {},
   "outputs": [
    {
     "name": "stdout",
     "output_type": "stream",
     "text": [
      "hello students\n"
     ]
    }
   ],
   "source": [
    "a = \"hello\"  # string / separate [\" \" ] \n",
    "b = \"students\"\n",
    "print (a +\" \" + b)"
   ]
  },
  {
   "cell_type": "markdown",
   "id": "472cb245-62bc-4f06-abee-c722422f696d",
   "metadata": {},
   "source": [
    "### Subtraction"
   ]
  },
  {
   "cell_type": "code",
   "execution_count": 74,
   "id": "57830702-8b62-439c-a3c1-7623394a2179",
   "metadata": {},
   "outputs": [
    {
     "name": "stdout",
     "output_type": "stream",
     "text": [
      "9\n"
     ]
    }
   ],
   "source": [
    "a = 15\n",
    "b = 6\n",
    "print (a-b)"
   ]
  },
  {
   "cell_type": "code",
   "execution_count": 75,
   "id": "51c99809-7cf9-41da-86f2-11188e9147ec",
   "metadata": {},
   "outputs": [
    {
     "name": "stdout",
     "output_type": "stream",
     "text": [
      "-0.8881500000000004\n"
     ]
    }
   ],
   "source": [
    "a = 5.36985\n",
    "b = 6.258\n",
    "print (a-b)"
   ]
  },
  {
   "cell_type": "code",
   "execution_count": 76,
   "id": "c95959f3-4fae-44f5-8081-62020c95967b",
   "metadata": {},
   "outputs": [
    {
     "name": "stdout",
     "output_type": "stream",
     "text": [
      "(-1+6j)\n"
     ]
    }
   ],
   "source": [
    "# complax no. \n",
    "a = 5+6j\n",
    "b = 6\n",
    "print (a-b)"
   ]
  },
  {
   "cell_type": "code",
   "execution_count": 77,
   "id": "ce89add7-5c0f-4299-8753-2e90d0e1a272",
   "metadata": {},
   "outputs": [
    {
     "ename": "TypeError",
     "evalue": "unsupported operand type(s) for -: 'str' and 'str'",
     "output_type": "error",
     "traceback": [
      "\u001b[1;31m---------------------------------------------------------------------------\u001b[0m",
      "\u001b[1;31mTypeError\u001b[0m                                 Traceback (most recent call last)",
      "Cell \u001b[1;32mIn[77], line 4\u001b[0m\n\u001b[0;32m      2\u001b[0m a \u001b[38;5;241m=\u001b[39m \u001b[38;5;124m\"\u001b[39m\u001b[38;5;124m hello\u001b[39m\u001b[38;5;124m\"\u001b[39m\n\u001b[0;32m      3\u001b[0m b \u001b[38;5;241m=\u001b[39m \u001b[38;5;124m\"\u001b[39m\u001b[38;5;124mstudent\u001b[39m\u001b[38;5;124m\"\u001b[39m\n\u001b[1;32m----> 4\u001b[0m \u001b[38;5;28mprint\u001b[39m (a\u001b[38;5;241m-\u001b[39m b)\n",
      "\u001b[1;31mTypeError\u001b[0m: unsupported operand type(s) for -: 'str' and 'str'"
     ]
    }
   ],
   "source": [
    "# Srings no. / error\n",
    "a = \" hello\"\n",
    "b = \"student\"\n",
    "print (a- b)"
   ]
  },
  {
   "cell_type": "markdown",
   "id": "b9d459cd-9499-4cdd-8291-5d62c3f31e91",
   "metadata": {},
   "source": [
    "### multiplication "
   ]
  },
  {
   "cell_type": "code",
   "execution_count": 78,
   "id": "2e8ba997-fac4-4790-b336-5b2b637d6253",
   "metadata": {},
   "outputs": [
    {
     "name": "stdout",
     "output_type": "stream",
     "text": [
      "840\n"
     ]
    }
   ],
   "source": [
    "a = 15 \n",
    "b = 56\n",
    "print (a*b)"
   ]
  },
  {
   "cell_type": "code",
   "execution_count": 79,
   "id": "790a4eae-c6d3-4960-83e2-5e8ca52620f5",
   "metadata": {},
   "outputs": [
    {
     "name": "stdout",
     "output_type": "stream",
     "text": [
      "469.66290448\n"
     ]
    }
   ],
   "source": [
    "a = 5.689  # float  \n",
    "b = 82.55632\n",
    "print (a*b)"
   ]
  },
  {
   "cell_type": "markdown",
   "id": "43e6d3d0-bc58-48b9-9904-1e434701f33a",
   "metadata": {},
   "source": [
    "### Division"
   ]
  },
  {
   "cell_type": "code",
   "execution_count": 80,
   "id": "dc01bd07-f8d7-4c7e-91e4-91512c8e94c3",
   "metadata": {},
   "outputs": [
    {
     "name": "stdout",
     "output_type": "stream",
     "text": [
      "7.5\n"
     ]
    }
   ],
   "source": [
    "a = 15 \n",
    "b = 2\n",
    "print (a/b)"
   ]
  },
  {
   "cell_type": "markdown",
   "id": "28596739-ac5e-431e-ab5d-ffb93ac37473",
   "metadata": {},
   "source": [
    "### Modulous"
   ]
  },
  {
   "cell_type": "code",
   "execution_count": 81,
   "id": "91eb499e-d32b-4cba-b3d4-ad39e506d626",
   "metadata": {},
   "outputs": [
    {
     "name": "stdout",
     "output_type": "stream",
     "text": [
      "1\n"
     ]
    }
   ],
   "source": [
    "a = 19                        # Jar aapan 19 / 3  kel tar ans 6 yet pan tyachi baki 1 yete  mhanjecha modulous \n",
    "b = 3\n",
    "print (a%b)"
   ]
  },
  {
   "cell_type": "code",
   "execution_count": 82,
   "id": "c404fabf-e3ed-4e35-aab5-8b4cbe9ecab9",
   "metadata": {},
   "outputs": [
    {
     "name": "stdout",
     "output_type": "stream",
     "text": [
      "0\n"
     ]
    }
   ],
   "source": [
    "a = 12 \n",
    "b = 4 \n",
    "print (a%b)"
   ]
  },
  {
   "cell_type": "markdown",
   "id": "f255b921-d510-4503-992c-2e03f36a5df6",
   "metadata": {},
   "source": [
    "### Exponrnt"
   ]
  },
  {
   "cell_type": "code",
   "execution_count": 83,
   "id": "8f093d1b-53c5-48f8-8cbd-21fb68125c2e",
   "metadata": {},
   "outputs": [],
   "source": [
    "# jar mla khup motha no. dila eg- 91256489 yachi mla 55 power kadhun pahije "
   ]
  },
  {
   "cell_type": "code",
   "execution_count": 84,
   "id": "8d995635-e5b2-4031-8aff-a250ea97d347",
   "metadata": {},
   "outputs": [
    {
     "name": "stdout",
     "output_type": "stream",
     "text": [
      "71162028433520217717099884851404495326786614148274137562533191244754226421072922193229393035406290047490322006127486170528820460414671897074184746917638236810663780872933871199771053029074871072046645088603300420278272474373361352870797685329285463690039885441075398107839063255747535400015566353549647882767414182717586010912021318113386679928289227315380064286145450539958069165193638416244911434618495833200180049949\n"
     ]
    }
   ],
   "source": [
    "a = 41256789\n",
    "print (a**55)"
   ]
  },
  {
   "cell_type": "code",
   "execution_count": 71,
   "id": "beba1118-a1f5-4fd5-9400-b478b9e680f8",
   "metadata": {},
   "outputs": [
    {
     "name": "stdout",
     "output_type": "stream",
     "text": [
      "1.4158087322788437e+167\n"
     ]
    }
   ],
   "source": [
    "a = ((859*78)+(78.256/89)+(856**57)+(145698-7526))\n",
    "print (a)"
   ]
  },
  {
   "cell_type": "markdown",
   "id": "f5e3f0a9-2ca6-4b07-9597-3211203bba19",
   "metadata": {},
   "source": [
    "### Boolean "
   ]
  },
  {
   "cell_type": "markdown",
   "id": "cf560ad4-032d-481b-9fe7-13ad476e581d",
   "metadata": {},
   "source": [
    "#### True or False "
   ]
  },
  {
   "cell_type": "code",
   "execution_count": null,
   "id": "76a2d596-14d3-45d1-8a80-01a987db7ace",
   "metadata": {},
   "outputs": [],
   "source": [
    "# f or f = f \n",
    "# f or t = t\n",
    "# t or f = t \n",
    "# t or t = t"
   ]
  },
  {
   "cell_type": "code",
   "execution_count": 74,
   "id": "5963af96-33be-4420-964c-d0c424be67b6",
   "metadata": {},
   "outputs": [
    {
     "name": "stdout",
     "output_type": "stream",
     "text": [
      "False\n"
     ]
    }
   ],
   "source": [
    "a = True                  ## and Operators/ t and f = false\n",
    "b = False                \n",
    "print (a and b )"
   ]
  },
  {
   "cell_type": "code",
   "execution_count": 75,
   "id": "1f871842-b980-4928-b8df-d957c350797f",
   "metadata": {},
   "outputs": [
    {
     "name": "stdout",
     "output_type": "stream",
     "text": [
      "True\n"
     ]
    }
   ],
   "source": [
    "a = True                  ## and Operators/ t and t = true\n",
    "b = True                \n",
    "print (a and b )"
   ]
  },
  {
   "cell_type": "code",
   "execution_count": 77,
   "id": "e52dd95b-6774-43f9-996d-d4ca58d02e30",
   "metadata": {},
   "outputs": [
    {
     "name": "stdout",
     "output_type": "stream",
     "text": [
      "True\n"
     ]
    }
   ],
   "source": [
    "a = True                  ## or Operators/ t and f = true\n",
    "b = False                \n",
    "print (a or b )"
   ]
  },
  {
   "cell_type": "code",
   "execution_count": 78,
   "id": "76deb471-2fb9-49ce-a80c-ef811c3807a9",
   "metadata": {},
   "outputs": [
    {
     "name": "stdout",
     "output_type": "stream",
     "text": [
      "False\n"
     ]
    }
   ],
   "source": [
    "a = False                 ## or Operators/ f and f = false\n",
    "b = False                \n",
    "print (a or b )"
   ]
  },
  {
   "cell_type": "code",
   "execution_count": 81,
   "id": "ca642186-b450-4ebd-9f6b-0af3d9179ec1",
   "metadata": {},
   "outputs": [
    {
     "name": "stdout",
     "output_type": "stream",
     "text": [
      "True\n"
     ]
    }
   ],
   "source": [
    "a = False                 ## not Operators/ f and f = true\n",
    "b = False                \n",
    "print (not(a))"
   ]
  },
  {
   "cell_type": "code",
   "execution_count": 82,
   "id": "0b9d1a3b-88b6-403b-8417-ec36a045137f",
   "metadata": {},
   "outputs": [
    {
     "name": "stdout",
     "output_type": "stream",
     "text": [
      "False\n"
     ]
    }
   ],
   "source": [
    "a = True                  ## not Operators/ t and f = false\n",
    "b = False                \n",
    "print( not (a))"
   ]
  },
  {
   "cell_type": "code",
   "execution_count": 84,
   "id": "3edbe78d-449a-4f70-a364-d7016ea26c06",
   "metadata": {},
   "outputs": [
    {
     "name": "stdout",
     "output_type": "stream",
     "text": [
      "20637005.183908045\n"
     ]
    }
   ],
   "source": [
    "# home work \n",
    "a = ((8922*2852)+(7821*222)-(25566*256)+(8281/87))\n",
    "print (a)"
   ]
  },
  {
   "cell_type": "markdown",
   "id": "d5e11cd9-da1a-483e-8089-0832a3f3404b",
   "metadata": {},
   "source": [
    "# Day 3"
   ]
  },
  {
   "cell_type": "markdown",
   "id": "91dc4bd2-1ea9-46fe-84c1-c811f79c03ad",
   "metadata": {},
   "source": [
    " #### In- buitlt Functions of python"
   ]
  },
  {
   "cell_type": "markdown",
   "id": "2056b062-36cf-41b2-bf44-ca87667fc4f7",
   "metadata": {},
   "source": [
    "###### Types of python functions\n"
   ]
  },
  {
   "cell_type": "code",
   "execution_count": 28,
   "id": "e8afe050-3d26-40d0-a6dd-43a36db006a7",
   "metadata": {},
   "outputs": [],
   "source": [
    "# 1] Built-in Function in python / abs() , bin() , bytes() , chr() \n",
    "# 2] python Recursive Function \n",
    "# 3] python Lambda function \n",
    "# 4] user-defined functions in python (aase function jyala aapan swata banvato python mdhe tyala aapan bolato user-difined funtion )"
   ]
  },
  {
   "cell_type": "markdown",
   "id": "6a3edb4b-a542-4076-b8b4-c5bfd8513141",
   "metadata": {},
   "source": [
    "## Built-in function "
   ]
  },
  {
   "cell_type": "markdown",
   "id": "8e18a5cc-53e1-4286-b896-e8bacb1df4e9",
   "metadata": {},
   "source": [
    " ###### (      aase function je python mthe aadhipasun cha available aahet tyala aapan mhanto built-in function      /     eg- print()    /   in python 3.6 , there are 68 built-in function - aaplyala fakt tyacha use karta aala pahije )"
   ]
  },
  {
   "cell_type": "markdown",
   "id": "38258713-689c-4e49-9130-f5f7ccfa83ca",
   "metadata": {},
   "source": [
    "#### abs()function   [Absolute function]"
   ]
  },
  {
   "cell_type": "markdown",
   "id": "04496667-dc89-4faa-87eb-60f0b3d2e675",
   "metadata": {},
   "source": [
    " ###### kas kam karat he function - eg  = Spesified value la dakhavto / samja me ek int-value ghetli (-7.25) yachi jae absolute value kadaychi aasel tar python mdhe aashi pasun cha ek banavlel function aahe {abs()}aani yacha (-) nighun jail aani tyachi value hoil 7.25 "
   ]
  },
  {
   "cell_type": "code",
   "execution_count": 29,
   "id": "2bd35b0c-8f00-4bc5-b9c3-24150812fa40",
   "metadata": {},
   "outputs": [
    {
     "name": "stdout",
     "output_type": "stream",
     "text": [
      "7.25\n"
     ]
    }
   ],
   "source": [
    "x=abs(-7.25)\n",
    "print(x)"
   ]
  },
  {
   "cell_type": "code",
   "execution_count": 30,
   "id": "9b1a6daa-a2b7-4bcc-b578-bd5406a0cfaa",
   "metadata": {},
   "outputs": [
    {
     "name": "stdout",
     "output_type": "stream",
     "text": [
      "9\n"
     ]
    }
   ],
   "source": [
    "y=abs(9)\n",
    "print (y)"
   ]
  },
  {
   "cell_type": "code",
   "execution_count": 31,
   "id": "0b09924e-2811-4c3c-9aa9-8ee0e3cb1af9",
   "metadata": {},
   "outputs": [
    {
     "name": "stdout",
     "output_type": "stream",
     "text": [
      "5.830951894845301\n"
     ]
    }
   ],
   "source": [
    "z = abs(3+5j)\n",
    "print (z)"
   ]
  },
  {
   "cell_type": "markdown",
   "id": "a4338860-6bca-426d-a4ec-5013cca48492",
   "metadata": {},
   "source": [
    "#### Binary function"
   ]
  },
  {
   "cell_type": "markdown",
   "id": "ca30a8a6-081f-40ad-aec9-0f2842e46403",
   "metadata": {},
   "source": [
    "##### he function kas kam karto tar aapan konata pan no. ghetla tyala ha convert binary no. mdhe Eg - samja me int 13 ghetal aani yala mla  memory store kraycha aahe  tar ha 13 no. store nahi honar memory mdhe  saglyat pahile tyala convert kel jail binary mdhe mag ha store hoil memory mdhe /8421= 8 kiti vela ghetla 1 , 4-1 , 2-0 , 1-1 = 1101 tar python mde ya sathi function aahe [bin()]"
   ]
  },
  {
   "cell_type": "code",
   "execution_count": 32,
   "id": "265dcba8-2260-42ec-bc97-a40a763b5c49",
   "metadata": {},
   "outputs": [
    {
     "name": "stdout",
     "output_type": "stream",
     "text": [
      "0b1101\n"
     ]
    }
   ],
   "source": [
    "x=bin(13)     ### 0b code mdhe yeto cha / 8,4,2,1=1101\n",
    "print (x)"
   ]
  },
  {
   "cell_type": "code",
   "execution_count": 33,
   "id": "2162b965-32ae-40a3-a697-7a77a43f2869",
   "metadata": {},
   "outputs": [
    {
     "name": "stdout",
     "output_type": "stream",
     "text": [
      "0b100100\n"
     ]
    }
   ],
   "source": [
    "y = bin (36)  ### 32,16,8,4,2,1 = 100100\n",
    "print (y)"
   ]
  },
  {
   "cell_type": "code",
   "execution_count": 34,
   "id": "84056bb5-5ced-4b66-b72e-4657e6f2a444",
   "metadata": {},
   "outputs": [
    {
     "name": "stdout",
     "output_type": "stream",
     "text": [
      "0b111000\n"
     ]
    }
   ],
   "source": [
    "z= bin (56) \n",
    "print (z)"
   ]
  },
  {
   "cell_type": "markdown",
   "id": "ce4b20b6-e894-4073-87aa-df80cca6b195",
   "metadata": {},
   "source": [
    "##### python Bytes function"
   ]
  },
  {
   "cell_type": "code",
   "execution_count": 35,
   "id": "179daed2-27fe-4d09-9c07-26818e3973c6",
   "metadata": {},
   "outputs": [
    {
     "name": "stdout",
     "output_type": "stream",
     "text": [
      "b'\\x00\\x00\\x00\\x00'\n"
     ]
    }
   ],
   "source": [
    "x= bytes(4)\n",
    "print (x)"
   ]
  },
  {
   "cell_type": "code",
   "execution_count": 36,
   "id": "d6066a0d-2060-49c8-87b5-2414e8ebd135",
   "metadata": {},
   "outputs": [
    {
     "name": "stdout",
     "output_type": "stream",
     "text": [
      "b'\\x00\\x00\\x00\\x00\\x00\\x00\\x00\\x00\\x00\\x00\\x00\\x00\\x00\\x00\\x00\\x00'\n"
     ]
    }
   ],
   "source": [
    "x= bytes(16)\n",
    "print (x)"
   ]
  },
  {
   "cell_type": "markdown",
   "id": "6d0f5db3-911c-4247-a8a0-fa66b7ac281e",
   "metadata": {},
   "source": [
    "#### chr() function [Character function]"
   ]
  },
  {
   "cell_type": "markdown",
   "id": "57ca81f6-481f-41a9-97b6-9ec04e0001c0",
   "metadata": {},
   "source": [
    "###### chr() he python mdhil ek build-in function aahe hicha upyog number pasun character milavnyasathi hoto / Eg. a,b,c,d ......Z ya sathi pratek character la aapan code karto tyala aapan bolto unicode a=97 ,c=98 , d=99  mag jar me 97 lihal tar mla tyacha aakshar bhetel a "
   ]
  },
  {
   "cell_type": "code",
   "execution_count": 37,
   "id": "192f80b5-fafd-4eeb-b174-7b1e576c3b44",
   "metadata": {},
   "outputs": [
    {
     "name": "stdout",
     "output_type": "stream",
     "text": [
      "a\n"
     ]
    }
   ],
   "source": [
    "x = chr(97)\n",
    "print (x)"
   ]
  },
  {
   "cell_type": "code",
   "execution_count": 38,
   "id": "8561b2d9-4ddd-4dbe-95b2-2e942a111a6d",
   "metadata": {},
   "outputs": [
    {
     "name": "stdout",
     "output_type": "stream",
     "text": [
      "b\n"
     ]
    }
   ],
   "source": [
    "y = chr(98)\n",
    "print (y)"
   ]
  },
  {
   "cell_type": "code",
   "execution_count": 39,
   "id": "615642f1-47da-4014-9639-7703a9b6b333",
   "metadata": {},
   "outputs": [
    {
     "name": "stdout",
     "output_type": "stream",
     "text": [
      "c\n"
     ]
    }
   ],
   "source": [
    "z = chr(99)\n",
    "print (z)"
   ]
  },
  {
   "cell_type": "code",
   "execution_count": 40,
   "id": "e87578c8-6e64-4fdd-a5ca-f16a0c34a8ba",
   "metadata": {},
   "outputs": [
    {
     "name": "stdout",
     "output_type": "stream",
     "text": [
      "^\n"
     ]
    }
   ],
   "source": [
    "g = chr(94)\n",
    "print (g)"
   ]
  },
  {
   "cell_type": "code",
   "execution_count": 41,
   "id": "7d58e2aa-2b9f-4571-b99d-dcd8575a61be",
   "metadata": {},
   "outputs": [
    {
     "name": "stdout",
     "output_type": "stream",
     "text": [
      "_\n"
     ]
    }
   ],
   "source": [
    "x = chr(95)\n",
    "print (x)"
   ]
  },
  {
   "cell_type": "code",
   "execution_count": 42,
   "id": "803de510-1208-4366-b8f5-17fa5fe46088",
   "metadata": {},
   "outputs": [
    {
     "name": "stdout",
     "output_type": "stream",
     "text": [
      "d\n"
     ]
    }
   ],
   "source": [
    "x = chr(100)\n",
    "print (x)"
   ]
  },
  {
   "cell_type": "code",
   "execution_count": null,
   "id": "7337d33c-5620-49c9-8ff8-7b5b734f86ad",
   "metadata": {},
   "outputs": [],
   "source": []
  },
  {
   "cell_type": "code",
   "execution_count": null,
   "id": "ec94f74d-23f6-4879-b264-84b20fe4d2e4",
   "metadata": {},
   "outputs": [],
   "source": []
  },
  {
   "cell_type": "code",
   "execution_count": null,
   "id": "81ddfe60-6f9f-4e39-878a-21dfa22b0b3d",
   "metadata": {},
   "outputs": [],
   "source": []
  }
 ],
 "metadata": {
  "kernelspec": {
   "display_name": "Python [conda env:base] *",
   "language": "python",
   "name": "conda-base-py"
  },
  "language_info": {
   "codemirror_mode": {
    "name": "ipython",
    "version": 3
   },
   "file_extension": ".py",
   "mimetype": "text/x-python",
   "name": "python",
   "nbconvert_exporter": "python",
   "pygments_lexer": "ipython3",
   "version": "3.12.7"
  }
 },
 "nbformat": 4,
 "nbformat_minor": 5
}
